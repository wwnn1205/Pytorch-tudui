{
 "cells": [
  {
   "cell_type": "markdown",
   "id": "eb8d1fc5-1759-41cb-981a-0c476707bf04",
   "metadata": {},
   "source": [
    "# 1. Dataloader使用\n",
    "\n",
    "Dataset只是去告诉我们程序，我们的数据集在什么位置，数据集第一个数据给它一个索引0，它对应的是哪一个数据。\n",
    "\n",
    "Dataloader就是把数据加载到神经网络当中，Dataloader所做的事就是每次从Dataset中取数据，至于怎么取，是由Dataloader中的参数决定的。"
   ]
  },
  {
   "cell_type": "code",
   "execution_count": null,
   "id": "2383aaee-2b2b-4dcf-aaf5-3fcda0ae33ab",
   "metadata": {},
   "outputs": [],
   "source": [
    "import torchvision\n",
    "from torch.utils.data import DataLoader\n",
    "\n",
    "# 准备的测试数据集\n",
    "test_data = torchvision.datasets.CIFAR10(\"./dataset\",train=False,transform=torchvision.transforms.ToTensor())               \n",
    "img, target = test_data[0]\n",
    "print(img.shape)\n",
    "print(img)\n",
    "\n",
    "# batch_size=4 使得 img0, target0 = dataset[0]、img1, target1 = dataset[1]、img2, target2 = dataset[2]、img3, target3 = dataset[3]，然后这四个数据作为Dataloader的一个返回      \n",
    "test_loader = DataLoader(dataset=test_data,batch_size=4,shuffle=True,num_workers=0,drop_last=False)      \n",
    "# 用for循环取出DataLoader打包好的四个数据\n",
    "for data in test_loader:\n",
    "    imgs, targets = data # 每个data都是由4张图片组成，imgs.size 为 [4,3,32,32]，四张32×32图片三通道，targets由四个标签组成             \n",
    "    print(imgs.shape)\n",
    "    print(targets)"
   ]
  },
  {
   "cell_type": "markdown",
   "id": "7afa88a1-ac68-4881-9124-abef2fe6bbe3",
   "metadata": {},
   "source": [
    "# 2. Tensorboard展示"
   ]
  },
  {
   "cell_type": "code",
   "execution_count": null,
   "id": "30cc54f7-d63a-457b-9db4-b7c9129ca1d2",
   "metadata": {},
   "outputs": [],
   "source": [
    "import torchvision\n",
    "from torch.utils.data import DataLoader\n",
    "from torch.utils.tensorboard import SummaryWriter\n",
    "\n",
    "# 准备的测试数据集\n",
    "test_data = torchvision.datasets.CIFAR10(\"./dataset\",train=False,transform=torchvision.transforms.ToTensor())               \n",
    "# batch_size=4 使得 img0, target0 = dataset[0]、img1, target1 = dataset[1]、img2, target2 = dataset[2]、img3, target3 = dataset[3]，然后这四个数据作为Dataloader的一个返回      \n",
    "test_loader = DataLoader(dataset=test_data,batch_size=64,shuffle=True,num_workers=0,drop_last=False)      \n",
    "# 用for循环取出DataLoader打包好的四个数据\n",
    "writer = SummaryWriter(\"logs\")\n",
    "step = 0\n",
    "for data in test_loader:\n",
    "    imgs, targets = data # 每个data都是由4张图片组成，imgs.size 为 [4,3,32,32]，四张32×32图片三通道，targets由四个标签组成             \n",
    "    writer.add_images(\"test_data\",imgs,step)\n",
    "    step = step + 1\n",
    "    \n",
    "writer.close()"
   ]
  },
  {
   "cell_type": "markdown",
   "id": "6d082b42-853a-495e-a071-0ec410474cd7",
   "metadata": {},
   "source": [
    "# 3. Dataloader多轮次"
   ]
  },
  {
   "cell_type": "code",
   "execution_count": null,
   "id": "7fd4347f-f37f-4155-862d-c771323d6d12",
   "metadata": {},
   "outputs": [],
   "source": [
    "import torchvision\n",
    "from torch.utils.data import DataLoader\n",
    "from torch.utils.tensorboard import SummaryWriter\n",
    "\n",
    "# 准备的测试数据集\n",
    "test_data = torchvision.datasets.CIFAR10(\"./dataset\",train=False,transform=torchvision.transforms.ToTensor())               \n",
    "# batch_size=4 使得 img0, target0 = dataset[0]、img1, target1 = dataset[1]、img2, target2 = dataset[2]、img3, target3 = dataset[3]，然后这四个数据作为Dataloader的一个返回      \n",
    "test_loader = DataLoader(dataset=test_data,batch_size=64,shuffle=True,num_workers=0,drop_last=True)      \n",
    "# 用for循环取出DataLoader打包好的四个数据\n",
    "writer = SummaryWriter(\"logs\")\n",
    "for epoch in range(2):\n",
    "    step = 0\n",
    "    for data in test_loader:\n",
    "        imgs, targets = data # 每个data都是由4张图片组成，imgs.size 为 [4,3,32,32]，四张32×32图片三通道，targets由四个标签组成             \n",
    "        writer.add_images(\"Epoch：{}\".format(epoch),imgs,step)\n",
    "        step = step + 1\n",
    "    \n",
    "writer.close()"
   ]
  },
  {
   "cell_type": "raw",
   "id": "03360860-6da7-4ff3-a1db-5dcf7e9e670a",
   "metadata": {},
   "source": []
  }
 ],
 "metadata": {
  "kernelspec": {
   "display_name": "Python 3 (ipykernel)",
   "language": "python",
   "name": "python3"
  },
  "language_info": {
   "codemirror_mode": {
    "name": "ipython",
    "version": 3
   },
   "file_extension": ".py",
   "mimetype": "text/x-python",
   "name": "python",
   "nbconvert_exporter": "python",
   "pygments_lexer": "ipython3",
   "version": "3.12.11"
  }
 },
 "nbformat": 4,
 "nbformat_minor": 5
}
