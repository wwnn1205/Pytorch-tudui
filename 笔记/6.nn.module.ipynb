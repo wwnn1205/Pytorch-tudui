{
 "cells": [
  {
   "cell_type": "markdown",
   "id": "79ae1cc9-4488-40b2-953f-18df474f4979",
   "metadata": {},
   "source": [
    "# 1. nn.Module模块使用\n",
    "\n",
    "nn.Module是对所有神经网络提供一个基本的类。\n",
    "\n",
    "我们的神经网络是继承nn.Module这个类，即nn.Module为父类，nn.Module为所有神经网络提供一个模板，对其中一些我们不满意的部分进行修改。"
   ]
  },
  {
   "cell_type": "markdown",
   "id": "662ff1f2-722d-4578-9c46-a218b98dcfe7",
   "metadata": {},
   "source": [
    "# 2. super(Myclass, self)._*init*_()\n",
    "\n",
    "简单理解就是子类把父类的__init__()放到自己的__init__()当中，这样子类就有了父类的_*init*_()的那些东西。\n",
    "\n",
    "Myclass类继承nn.Module，super(Myclass, self).__init__()就是对继承自父类nn.Module的属性进行初始化。而且是用nn.Module的初始化方法来初始化继承的属性。\n",
    "\n",
    "super().__init()__()来通过初始化父类属性以初始化自身继承了父类的那部分属性；这样一来，作为nn.Module的子类就无需再初始化那一部分属性了，只需初始化新加的元素。\n",
    "\n",
    "子类继承了父类的所有属性和方法，父类属性自然会用父类方法来进行初始化。\n",
    "\n",
    "必须实现父类的__init__方法，因为父类中可能在构造过程中做了重要的初始化工作，如果不调用，就没有这些参数。\n",
    "因为 `nn.Module` 的构造器里，**负责初始化很多关键机制**，比如：\n",
    "\n",
    "- 创建模块的参数字典 `_parameters`\n",
    "- 注册子模块 `self.fc`\n",
    "- 使模型能正常 `.to(device)`、`.eval()`、`.train()` 等\n",
    "- 支持自动梯度回传、保存/加载等\n",
    "\n",
    "如果你不调用 `super().__init__()`，这些都没创建，模型就不是一个真正的 PyTorch 模型了。"
   ]
  },
  {
   "cell_type": "markdown",
   "id": "f3396c4c-9cb0-4108-8151-87a51e7d17c9",
   "metadata": {},
   "source": [
    "# 3. forward函数\n",
    "\n",
    "使用pytorch的时候，不需要手动调用forward函数，只要在实例化一个对象中传入对应的参数就可以自动调用 forward 函数。\n",
    "\n",
    "因为 PyTorch 中的大部分方法都继承自 torch.nn.Module，而 torch.nn.Module 的__call__(self)函数中会返回 forward()函数 的结果，因此PyTroch中的 forward()函数等于是被嵌套在了__call__(self)函数中；因此forward()函数可以直接通过类名被调用，而不用实例化对象。"
   ]
  },
  {
   "cell_type": "code",
   "execution_count": null,
   "id": "e3ab8664-75b2-431e-942d-9970a49187a8",
   "metadata": {},
   "outputs": [],
   "source": []
  }
 ],
 "metadata": {
  "kernelspec": {
   "display_name": "Python 3 (ipykernel)",
   "language": "python",
   "name": "python3"
  },
  "language_info": {
   "codemirror_mode": {
    "name": "ipython",
    "version": 3
   },
   "file_extension": ".py",
   "mimetype": "text/x-python",
   "name": "python",
   "nbconvert_exporter": "python",
   "pygments_lexer": "ipython3",
   "version": "3.12.11"
  }
 },
 "nbformat": 4,
 "nbformat_minor": 5
}
