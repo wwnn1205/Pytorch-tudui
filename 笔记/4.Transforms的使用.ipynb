{
 "cells": [
  {
   "cell_type": "markdown",
   "id": "602f6764-0298-4abf-b3d0-2f82edcdd2a9",
   "metadata": {},
   "source": [
    "### Transforms 的主要作用\n",
    "\n",
    "\n",
    "\n",
    "1. **数据预处理 (Preprocessing)**\n",
    "   - **统一数据格式和大小：** 不同的图片可能有不同的尺寸和像素值范围。Transforms 可以将它们统一为模型可以接受的输入格式，例如将所有图片缩放到 224times224 像素，并将像素值归一化到 0 到 1 之间。\n",
    "   - **准备输入：** 将图片从 PIL 格式或 NumPy 数组转换为 PyTorch Tensor 等模型需要的特定数据类型。\n",
    "2. **数据增强 (Data Augmentation)**\n",
    "   - **增加数据量：** 训练深度学习模型需要大量的标注数据，但收集数据往往非常昂贵和耗时。通过对现有数据应用随机变换，我们可以在不收集新数据的情况下，“凭空”创造出更多训练样本。\n",
    "   - **提高模型泛化能力：** 通过引入数据的多样性，模型在训练时会接触到更多变体的数据。这有助于模型学习到对变换（如旋转、缩放、裁剪等）不敏感的特征，从而提高它在未见过数据上的表现。这可以有效避免模型过拟合训练数据。"
   ]
  },
  {
   "cell_type": "markdown",
   "id": "8995b9a3-52d0-4b3a-8809-81722f19bc2c",
   "metadata": {},
   "source": [
    "### **常见的图像转换（transforms）**\n",
    "\n",
    "- **`ToTensor()`**: 将图像转换为 PyTorch 张量（tensor），并将像素值从 `[0, 255]` 范围转换到 `[0.0, 1.0]`。\n",
    "\n",
    "  ```python\n",
    "  from torchvision import transforms\n",
    "  transform = transforms.ToTensor()\n",
    "  ```\n",
    "\n",
    "- **`Normalize(mean, std)`**: 用于对图像进行标准化，常用于归一化图像的颜色通道，使其具有零均值和单位标准差。\n",
    "\n",
    "  ```python\n",
    "  transform = transforms.Normalize(mean=[0.485, 0.456, 0.406], std=[0.229, 0.224, 0.225])\n",
    "  ```\n",
    "\n",
    "- **`Resize(size)`**: 调整图像的大小，通常用于将输入图像调整为固定的大小，以便输入到模型中。\n",
    "\n",
    "  ```python\n",
    "  transform = transforms.Resize((256, 256))\n",
    "  ```\n",
    "\n",
    "- **`CenterCrop(size)`**: 从图像的中心裁剪出指定大小的区域。\n",
    "\n",
    "  ```python\n",
    "  transform = transforms.CenterCrop(224)\n",
    "  ```\n",
    "\n",
    "- **`RandomHorizontalFlip(p=0.5)`**: 随机水平翻转图像，用于数据增强。`p` 是翻转的概率，默认为 0.5。\n",
    "\n",
    "  ```python\n",
    "  transform = transforms.RandomHorizontalFlip(p=0.5)\n",
    "  ```\n",
    "\n",
    "- **`RandomRotation(degrees)`**: 随机旋转图像，`degrees` 可以指定一个范围（如 30 表示随机旋转 -30° 到 +30°）。\n",
    "\n",
    "  ```python\n",
    "  transform = transforms.RandomRotation(30)\n",
    "  ```\n",
    "\n"
   ]
  },
  {
   "cell_type": "markdown",
   "id": "8e5903a9-6505-4be2-9041-6cce0781c3cc",
   "metadata": {},
   "source": [
    "1. **`ToTensor()`**"
   ]
  },
  {
   "cell_type": "code",
   "execution_count": 2,
   "id": "0996a319-560e-49bf-8d9f-b0433dc28c54",
   "metadata": {},
   "outputs": [
    {
     "name": "stdout",
     "output_type": "stream",
     "text": [
      "torch.Size([3, 375, 500])\n"
     ]
    }
   ],
   "source": [
    "from torchvision import transforms\n",
    "from PIL import Image\n",
    "\n",
    "# 加载图像\n",
    "image = Image.open('../dataset/train/ants_image/5650366_e22b7e1065.jpg')\n",
    "\n",
    "# 将图像转换为 tensor\n",
    "transform = transforms.ToTensor()\n",
    "tensor_image = transform(image)\n",
    "\n",
    "print(tensor_image.shape)  # 输出形状，例如 torch.Size([3, H, W])"
   ]
  },
  {
   "cell_type": "markdown",
   "id": "b442b62e-b5ea-40b3-9b78-7d2f00a5f4d0",
   "metadata": {},
   "source": [
    "**拓展一下**"
   ]
  },
  {
   "cell_type": "code",
   "execution_count": 3,
   "id": "f40df904-b044-477d-9456-9c7ac96093e1",
   "metadata": {},
   "outputs": [
    {
     "name": "stdout",
     "output_type": "stream",
     "text": [
      "--- Tensor 信息 ---\n",
      "Tensor 形状 (Shape): torch.Size([3, 375, 500])\n",
      "Tensor 数据类型 (Dtype): torch.float32\n",
      "Tensor 设备 (Device): cpu\n",
      "Tensor 最小值 (Min Value): tensor(0.)\n",
      "Tensor 最大值 (Max Value): tensor(0.7529)\n",
      "每个通道的均值 (Mean per channel): tensor([0.2530, 0.4861, 0.4851])\n",
      "每个通道的标准差 (Std per channel): tensor([0.1786, 0.1089, 0.1209])\n",
      "Tensor 总元素数量 (Numel): 562500\n"
     ]
    }
   ],
   "source": [
    "from torchvision import transforms\n",
    "from PIL import Image\n",
    "import torch\n",
    "\n",
    "# 加载图像\n",
    "image = Image.open('../dataset/train/ants_image/5650366_e22b7e1065.jpg')\n",
    "\n",
    "# 将图像转换为 tensor\n",
    "transform = transforms.ToTensor()\n",
    "tensor_image = transform(image)\n",
    "\n",
    "print(\"--- Tensor 信息 ---\")\n",
    "print(\"Tensor 形状 (Shape):\", tensor_image.shape)\n",
    "print(\"Tensor 数据类型 (Dtype):\", tensor_image.dtype)\n",
    "print(\"Tensor 设备 (Device):\", tensor_image.device)\n",
    "print(\"Tensor 最小值 (Min Value):\", tensor_image.min())\n",
    "print(\"Tensor 最大值 (Max Value):\", tensor_image.max())\n",
    "\n",
    "# 计算每个通道的均值和标准差\n",
    "mean_per_channel = tensor_image.mean(dim=[1, 2])\n",
    "std_per_channel = tensor_image.std(dim=[1, 2])\n",
    "print(\"每个通道的均值 (Mean per channel):\", mean_per_channel)\n",
    "print(\"每个通道的标准差 (Std per channel):\", std_per_channel)\n",
    "\n",
    "print(\"Tensor 总元素数量 (Numel):\", tensor_image.numel())"
   ]
  },
  {
   "cell_type": "code",
   "execution_count": null,
   "id": "50b747fd-1854-4429-aea0-3cc1184ae117",
   "metadata": {},
   "outputs": [],
   "source": []
  }
 ],
 "metadata": {
  "kernelspec": {
   "display_name": "Python 3 (ipykernel)",
   "language": "python",
   "name": "python3"
  },
  "language_info": {
   "codemirror_mode": {
    "name": "ipython",
    "version": 3
   },
   "file_extension": ".py",
   "mimetype": "text/x-python",
   "name": "python",
   "nbconvert_exporter": "python",
   "pygments_lexer": "ipython3",
   "version": "3.12.11"
  }
 },
 "nbformat": 4,
 "nbformat_minor": 5
}
