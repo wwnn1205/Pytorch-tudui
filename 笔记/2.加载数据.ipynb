{
 "cells": [
  {
   "cell_type": "markdown",
   "id": "f7a10722-5272-47d4-b739-9a1d698d0952",
   "metadata": {},
   "source": [
    "2025-7-20"
   ]
  },
  {
   "cell_type": "markdown",
   "id": "34b8a779-1822-4d95-b6d3-cce3f423196e",
   "metadata": {},
   "source": [
    "加载数据初认识"
   ]
  },
  {
   "cell_type": "code",
   "execution_count": null,
   "id": "dc91e398-df73-4d94-8b08-3936ed18012b",
   "metadata": {},
   "outputs": [],
   "source": [
    "from torch.utils.data import Dataset\n",
    "from PIL import Image\n",
    "import os\n",
    "\n",
    "class MyData(Dataset):\n",
    "\n",
    "    def __init__(self,root_dir,label_dir):\n",
    "        self.root_dir=root_dir\n",
    "        self.label_dir=label_dir\n",
    "        self.path=os.path.join(self.root_dir,self.label_dir)\n",
    "        self.img_path=os.listdir(self.path)\n",
    "\n",
    "\n",
    "    def __getitem__(self, idx):\n",
    "        img_name=self.img_path[idx]\n",
    "        img_name_path=os.path.join(self.root_dir,self.label_dir,img_name)\n",
    "        img=Image.open(img_name_path)\n",
    "        label=self.label_dir\n",
    "        return img,label\n",
    "\n",
    "    def __len__(self):\n",
    "        return len(self.img_path)\n",
    "\n",
    "root_dir= \"../dataset/train\"\n",
    "ants_label_dir=\"ants_image\"\n",
    "ants_dataset=MyData(root_dir,ants_label_dir)\n",
    "bees_label_dir=\"bees_image\"\n",
    "bees_dataset=MyData(root_dir,bees_label_dir)\n",
    "\n",
    "train_dataset=ants_dataset+bees_dataset"
   ]
  },
  {
   "cell_type": "markdown",
   "id": "c14e8569-eca2-42d8-9a19-47a85b2c065d",
   "metadata": {},
   "source": [
    "以上是练习的代码，主要学习了数据加载，重写了getitem函数"
   ]
  }
 ],
 "metadata": {
  "kernelspec": {
   "display_name": "Python 3 (ipykernel)",
   "language": "python",
   "name": "python3"
  },
  "language_info": {
   "codemirror_mode": {
    "name": "ipython",
    "version": 3
   },
   "file_extension": ".py",
   "mimetype": "text/x-python",
   "name": "python",
   "nbconvert_exporter": "python",
   "pygments_lexer": "ipython3",
   "version": "3.12.11"
  }
 },
 "nbformat": 4,
 "nbformat_minor": 5
}
