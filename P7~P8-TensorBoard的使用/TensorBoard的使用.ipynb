{
 "cells": [
  {
   "cell_type": "code",
   "execution_count": null,
   "id": "1c3108ca-d171-4e76-82d1-ef3613e1c0e0",
   "metadata": {},
   "outputs": [],
   "source": [
    "from torch.utils.tensorboard import SummaryWriter\n",
    "import numpy as np\n",
    "from PIL import Image\n",
    "\n",
    "writer = SummaryWriter(\"logs\")\n",
    "# img_path = \"D:\\\\code\\\\python\\\\土堆Pytorch\\\\P5-加载数据\\\\dataset\\\\train\\\\ants_image\\\\0013035.jpg\"\n",
    "# img_path = \"D:\\\\code\\\\python\\\\土堆Pytorch\\\\P5-加载数据\\\\dataset\\\\train\\\\bees_image\\\\16838648_415acd9e3f.jpg\"\n",
    "img_path = \"../P5-加载数据/dataset/train/bees_image/150013791_969d9a968b.jpg\"\n",
    "img_PIL = Image.open(img_path)\n",
    "img_array = np.array(img_PIL)\n",
    "\n",
    "writer.add_image(\"train\",img_array,1,dataformats='HWC')\n",
    "# writer.add_image()\n",
    "# y=2x\n",
    "for i in range(100):\n",
    "    writer.add_scalar(\"y=2x\",3*i,i)\n",
    "\n",
    "writer.close()"
   ]
  }
 ],
 "metadata": {
  "kernelspec": {
   "display_name": "Python 3 (ipykernel)",
   "language": "python",
   "name": "python3"
  },
  "language_info": {
   "codemirror_mode": {
    "name": "ipython",
    "version": 3
   },
   "file_extension": ".py",
   "mimetype": "text/x-python",
   "name": "python",
   "nbconvert_exporter": "python",
   "pygments_lexer": "ipython3",
   "version": "3.12.11"
  }
 },
 "nbformat": 4,
 "nbformat_minor": 5
}
