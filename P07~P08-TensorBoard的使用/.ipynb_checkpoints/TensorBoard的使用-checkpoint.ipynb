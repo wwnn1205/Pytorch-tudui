{
 "cells": [
  {
   "cell_type": "code",
   "execution_count": null,
   "id": "1c3108ca-d171-4e76-82d1-ef3613e1c0e0",
   "metadata": {},
   "outputs": [],
   "source": [
    "from torch.utils.tensorboard import SummaryWriter\n",
    "import numpy as np\n",
    "from PIL import Image\n",
    "\n",
    "writer = SummaryWriter(\"logs\")\n",
    "# img_path = \"D:\\\\code\\\\python\\\\土堆Pytorch\\\\P05-加载数据\\\\dataset\\\\train\\\\ants_image\\\\0013035.jpg\"\n",
    "# img_path = \"D:\\\\code\\\\python\\\\土堆Pytorch\\\\P05-加载数据\\\\dataset\\\\train\\\\bees_image\\\\16838648_415acd9e3f.jpg\"\n",
    "img_path = \"../P05-加载数据/dataset/train/bees_image/150013791_969d9a968b.jpg\"\n",
    "img_PIL = Image.open(img_path)\n",
    "img_array = np.array(img_PIL)\n",
    "\n",
    "writer.add_image(\"train\",img_array,1,dataformats='HWC')\n",
    "# writer.add_image()\n",
    "# y=2x\n",
    "for i in range(100):\n",
    "    writer.add_scalar(\"y=2x\",3*i,i)\n",
    "\n",
    "writer.close()"
   ]
  },
  {
   "cell_type": "markdown",
   "id": "e19041b8-d9f2-49ff-9b37-7ef46b692bb3",
   "metadata": {},
   "source": [
    "启动Tensorboard："
   ]
  },
  {
   "cell_type": "code",
   "execution_count": null,
   "id": "154b23ac-95e8-4259-9ad1-ef73aa4da1ed",
   "metadata": {},
   "outputs": [],
   "source": [
    "tensorboard --logdir=logs --port=6007"
   ]
  },
  {
   "cell_type": "markdown",
   "id": "fce55a96-bbd6-4a57-9159-554f7e635d43",
   "metadata": {},
   "source": [
    "后面的--port=6007是可选项，如果不指定端口号的话默认是6006"
   ]
  },
  {
   "cell_type": "markdown",
   "id": "31584fbe-65c7-4152-a1f1-01600ecd55e4",
   "metadata": {},
   "source": [
    "--logdir=后面的是logs文件夹的位置，可以使用绝对路径，这样确保不会出错"
   ]
  }
 ],
 "metadata": {
  "kernelspec": {
   "display_name": "Python 3 (ipykernel)",
   "language": "python",
   "name": "python3"
  },
  "language_info": {
   "codemirror_mode": {
    "name": "ipython",
    "version": 3
   },
   "file_extension": ".py",
   "mimetype": "text/x-python",
   "name": "python",
   "nbconvert_exporter": "python",
   "pygments_lexer": "ipython3",
   "version": "3.12.11"
  }
 },
 "nbformat": 4,
 "nbformat_minor": 5
}
